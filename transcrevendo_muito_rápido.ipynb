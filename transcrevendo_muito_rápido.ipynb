{
  "cells": [
    {
      "cell_type": "markdown",
      "metadata": {
        "id": "view-in-github",
        "colab_type": "text"
      },
      "source": [
        "<a href=\"https://colab.research.google.com/github/vivioleta/ecology/blob/main/transcrevendo_muito_r%C3%A1pido.ipynb\" target=\"_parent\"><img src=\"https://colab.research.google.com/assets/colab-badge.svg\" alt=\"Open In Colab\"/></a>"
      ]
    },
    {
      "cell_type": "code",
      "source": [
        "#escrito por Violeta Martins"
      ],
      "metadata": {
        "id": "PbYS1fxgxpug"
      },
      "execution_count": null,
      "outputs": []
    },
    {
      "cell_type": "code",
      "execution_count": null,
      "metadata": {
        "id": "LCr1MobJJlI6",
        "colab": {
          "base_uri": "https://localhost:8080/"
        },
        "outputId": "cbf9686a-c3a0-4f47-aac2-77b0969c86b0"
      },
      "outputs": [
        {
          "output_type": "stream",
          "name": "stdout",
          "text": [
            "Collecting pipx\n",
            "  Downloading pipx-1.5.0-py3-none-any.whl (72 kB)\n",
            "\u001b[2K     \u001b[90m━━━━━━━━━━━━━━━━━━━━━━━━━━━━━━━━━━━━━━━━\u001b[0m \u001b[32m72.0/72.0 kB\u001b[0m \u001b[31m1.9 MB/s\u001b[0m eta \u001b[36m0:00:00\u001b[0m\n",
            "\u001b[?25hCollecting argcomplete>=1.9.4 (from pipx)\n",
            "  Downloading argcomplete-3.3.0-py3-none-any.whl (42 kB)\n",
            "\u001b[2K     \u001b[90m━━━━━━━━━━━━━━━━━━━━━━━━━━━━━━━━━━━━━━━━\u001b[0m \u001b[32m42.6/42.6 kB\u001b[0m \u001b[31m4.4 MB/s\u001b[0m eta \u001b[36m0:00:00\u001b[0m\n",
            "\u001b[?25hRequirement already satisfied: packaging>=20 in /usr/local/lib/python3.10/dist-packages (from pipx) (24.0)\n",
            "Requirement already satisfied: platformdirs>=2.1 in /usr/local/lib/python3.10/dist-packages (from pipx) (4.2.1)\n",
            "Requirement already satisfied: tomli in /usr/local/lib/python3.10/dist-packages (from pipx) (2.0.1)\n",
            "Collecting userpath!=1.9.0,>=1.6 (from pipx)\n",
            "  Downloading userpath-1.9.2-py3-none-any.whl (9.1 kB)\n",
            "Requirement already satisfied: click in /usr/local/lib/python3.10/dist-packages (from userpath!=1.9.0,>=1.6->pipx) (8.1.7)\n",
            "Installing collected packages: userpath, argcomplete, pipx\n",
            "Successfully installed argcomplete-3.3.0 pipx-1.5.0 userpath-1.9.2\n",
            "Reading package lists... Done\n",
            "Building dependency tree... Done\n",
            "Reading state information... Done\n",
            "The following additional packages will be installed:\n",
            "  python3-pip-whl python3-setuptools-whl\n",
            "The following NEW packages will be installed:\n",
            "  python3-pip-whl python3-setuptools-whl python3.10-venv\n",
            "0 upgraded, 3 newly installed, 0 to remove and 45 not upgraded.\n",
            "Need to get 2,473 kB of archives.\n",
            "After this operation, 2,884 kB of additional disk space will be used.\n",
            "Get:1 http://archive.ubuntu.com/ubuntu jammy-updates/universe amd64 python3-pip-whl all 22.0.2+dfsg-1ubuntu0.4 [1,680 kB]\n",
            "Get:2 http://archive.ubuntu.com/ubuntu jammy-updates/universe amd64 python3-setuptools-whl all 59.6.0-1.2ubuntu0.22.04.1 [788 kB]\n",
            "Get:3 http://archive.ubuntu.com/ubuntu jammy-updates/universe amd64 python3.10-venv amd64 3.10.12-1~22.04.3 [5,716 B]\n",
            "Fetched 2,473 kB in 3s (871 kB/s)\n",
            "Selecting previously unselected package python3-pip-whl.\n",
            "(Reading database ... 121920 files and directories currently installed.)\n",
            "Preparing to unpack .../python3-pip-whl_22.0.2+dfsg-1ubuntu0.4_all.deb ...\n",
            "Unpacking python3-pip-whl (22.0.2+dfsg-1ubuntu0.4) ...\n",
            "Selecting previously unselected package python3-setuptools-whl.\n",
            "Preparing to unpack .../python3-setuptools-whl_59.6.0-1.2ubuntu0.22.04.1_all.deb ...\n",
            "Unpacking python3-setuptools-whl (59.6.0-1.2ubuntu0.22.04.1) ...\n",
            "Selecting previously unselected package python3.10-venv.\n",
            "Preparing to unpack .../python3.10-venv_3.10.12-1~22.04.3_amd64.deb ...\n",
            "Unpacking python3.10-venv (3.10.12-1~22.04.3) ...\n",
            "Setting up python3-setuptools-whl (59.6.0-1.2ubuntu0.22.04.1) ...\n",
            "Setting up python3-pip-whl (22.0.2+dfsg-1ubuntu0.4) ...\n",
            "Setting up python3.10-venv (3.10.12-1~22.04.3) ...\n",
            "\u001b[?25l⚠️ No executable for the provided Python version 'python3.11' found in PATH. Please make sure the\n",
            "    provided version is on your PATH or the file path is valid.\n",
            "\u001b[?25h\u001b[?25lSuccess! Added /root/.local/bin to the PATH environment variable.\n",
            "\n",
            "Consider adding shell completions for pipx. Run 'pipx completions' for instructions.\n",
            "\n",
            "You will need to open a new terminal or re-login for the PATH changes to take effect.\n",
            "\n",
            "Otherwise pipx is ready to go! ✨ 🌟 ✨\n",
            "\u001b[?25h"
          ]
        }
      ],
      "source": [
        "#Instalando coisas que precisam\n",
        "!pip install pipx\n",
        "!apt install python3.10-venv\n",
        "!pipx install insanely-fast-whisper --python python3.11\n",
        "!pipx ensurepath\n",
        "!pip install python-docx"
      ]
    },
    {
      "cell_type": "code",
      "source": [
        "#Abrindo o Google Drive\n",
        "from google.colab import drive\n",
        "drive.mount('/content/drive')"
      ],
      "metadata": {
        "colab": {
          "base_uri": "https://localhost:8080/"
        },
        "id": "7FVLVzCpzFB5",
        "outputId": "8bec8aab-ca5c-409c-81a0-d00922ef4fc1"
      },
      "execution_count": null,
      "outputs": [
        {
          "output_type": "stream",
          "name": "stdout",
          "text": [
            "Mounted at /content/drive\n"
          ]
        }
      ]
    },
    {
      "cell_type": "code",
      "execution_count": null,
      "metadata": {
        "id": "qOq-sOlELPtf"
      },
      "outputs": [],
      "source": [
        "#Função que transcreve um áudio\n",
        "def transcribe(audioName,directoryName):\n",
        "  filename = \"\\\"/content/drive/MyDrive/maratranscrisa/\" + directoryName + \"/\" + audioName + \"\\\"\"\n",
        "  saidaname = \"\\\"/content/drive/MyDrive/maratranscrisa/jsons/\" + audioName[:-4] + \".json\\\" \"\n",
        "  command = \"pipx run insanely-fast-whisper --language Portuguese --file-name \" + filename + \" --transcript-path \" + saidaname\n",
        "  !{command}\n"
      ]
    },
    {
      "cell_type": "code",
      "source": [
        "#Função que formata a transcrição em um .txt mais amigável\n",
        "def format(audioName,directoryName):\n",
        "  import json\n",
        "  import datetime\n",
        "  from builtins import open\n",
        "  saidaname = \"/content/drive/MyDrive/maratranscrisa/jsons/\" + audioName[:-4] + \".json\"\n",
        "\n",
        "  with open(saidaname,'r') as f:\n",
        "    transcript = json.load(f)\n",
        "  fulltext = []\n",
        "  fulltime = []\n",
        "  for chunk in transcript['chunks']:\n",
        "    fulltime += [chunk['timestamp'][0]]\n",
        "    fulltext += [chunk['text']]\n",
        "\n",
        "  def adapt(number,text):\n",
        "    return \"[\" + str(datetime.timedelta(seconds=number)) + \"] \" + \"S1: \" + text + \" \\n\"\n",
        "\n",
        "  text = \"\"\n",
        "  for i in range(len(fulltime)):\n",
        "    text += adapt(fulltime[i],fulltext[i])\n",
        "\n",
        "  formattedname = \"/content/drive/MyDrive/maratranscrisa/\" + directoryName + \"/\" + audioName[:-4] + \".txt\"\n",
        "  text_file = open(formattedname, \"w\")\n",
        "  text_file.write(text)\n",
        "  text_file.close()\n",
        "\n"
      ],
      "metadata": {
        "id": "NfzN2fCQ4NeP"
      },
      "execution_count": null,
      "outputs": []
    },
    {
      "cell_type": "code",
      "source": [
        "#Função pra transcrever todos os arquivos de um diretório.\n",
        "\n",
        "import os\n",
        "\n",
        "def bulkTrans(name):\n",
        "  source = \"/content/drive/MyDrive/maratranscrisa/\"\n",
        "  directory = source + name\n",
        "  audioList = os.listdir(directory)\n",
        "  for audio in audioList:\n",
        "    transcribe(audio,name)\n",
        "    format(audio,name)"
      ],
      "metadata": {
        "id": "oit9J176IGK9"
      },
      "execution_count": null,
      "outputs": []
    },
    {
      "cell_type": "code",
      "source": [
        "#Instalando pacotes pra serem usados pra converter os .txt em .docx\n",
        "!pip install python-docx\n",
        "!pip install unidecode"
      ],
      "metadata": {
        "colab": {
          "base_uri": "https://localhost:8080/"
        },
        "id": "QHkzYprpbBJC",
        "outputId": "64d0b03f-6d72-46f5-edae-2f4618c1888d"
      },
      "execution_count": null,
      "outputs": [
        {
          "output_type": "stream",
          "name": "stdout",
          "text": [
            "Collecting unidecode\n",
            "  Downloading Unidecode-1.3.8-py3-none-any.whl (235 kB)\n",
            "\u001b[?25l     \u001b[90m━━━━━━━━━━━━━━━━━━━━━━━━━━━━━━━━━━━━━━━━\u001b[0m \u001b[32m0.0/235.5 kB\u001b[0m \u001b[31m?\u001b[0m eta \u001b[36m-:--:--\u001b[0m\r\u001b[2K     \u001b[91m━━━━━━━━━━━━━━━━━━━━━━━━━━━━━━━━━━━━━━\u001b[0m\u001b[90m╺\u001b[0m\u001b[90m━\u001b[0m \u001b[32m225.3/235.5 kB\u001b[0m \u001b[31m6.6 MB/s\u001b[0m eta \u001b[36m0:00:01\u001b[0m\r\u001b[2K     \u001b[90m━━━━━━━━━━━━━━━━━━━━━━━━━━━━━━━━━━━━━━━━\u001b[0m \u001b[32m235.5/235.5 kB\u001b[0m \u001b[31m5.3 MB/s\u001b[0m eta \u001b[36m0:00:00\u001b[0m\n",
            "\u001b[?25hInstalling collected packages: unidecode\n",
            "Successfully installed unidecode-1.3.8\n"
          ]
        }
      ]
    },
    {
      "cell_type": "code",
      "source": [
        "#Aqui convertemos todos os arquivos transcritos do formato .txt para um .docx\n",
        "from docx import Document\n",
        "import re\n",
        "import os\n",
        "\n",
        "path = '/content/drive/MyDrive/maratranscrisa/prontos/SC Biguacu/' #diretório onde todos os arquivos dele vão ser convertidos\n",
        "direct = os.listdir(path)\n",
        "\n",
        "for i in direct:\n",
        "    document = Document()\n",
        "    document.add_heading(i, 0)\n",
        "    myfile = open('/content/drive/MyDrive/maratranscrisa/prontos/SC Biguacu/'+i).read()\n",
        "    p = document.add_paragraph(myfile)\n",
        "    document.save('/content/drive/MyDrive/maratranscrisa/prontos/SC Biguacu/'+i+'.docx')"
      ],
      "metadata": {
        "id": "2El2AIM9SROp"
      },
      "execution_count": null,
      "outputs": []
    },
    {
      "cell_type": "markdown",
      "source": [],
      "metadata": {
        "id": "x6e0qRKEaU46"
      }
    }
  ],
  "metadata": {
    "accelerator": "GPU",
    "colab": {
      "provenance": [],
      "include_colab_link": true
    },
    "kernelspec": {
      "display_name": "Python 3",
      "name": "python3"
    },
    "language_info": {
      "name": "python"
    }
  },
  "nbformat": 4,
  "nbformat_minor": 0
}